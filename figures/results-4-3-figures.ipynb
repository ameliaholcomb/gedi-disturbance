{
 "cells": [
  {
   "cell_type": "code",
   "execution_count": 47,
   "metadata": {},
   "outputs": [],
   "source": [
    "import geopandas as gpd\n",
    "import rioxarray as rxr\n",
    "import numpy as np\n",
    "import matplotlib.pyplot as plt\n",
    "from matplotlib.lines import Line2D\n",
    "import pandas as pd\n",
    "import seaborn as sns\n",
    "\n",
    "from src import constants\n",
    "from src.utils import raster_utils"
   ]
  },
  {
   "cell_type": "markdown",
   "metadata": {},
   "source": [
    "# 0. Read in and overlay disturbance + burn data"
   ]
  },
  {
   "cell_type": "code",
   "execution_count": 26,
   "metadata": {},
   "outputs": [],
   "source": [
    "degrade_pts = gpd.read_feather(constants.RESULTS_PATH / \"radd_treatment_singlelayer.feather\")\n",
    "rst = rxr.open_rasterio(constants.DATA_PATH / \"annual_burndate\" / \"annual_burndate.tif\")"
   ]
  },
  {
   "cell_type": "code",
   "execution_count": 27,
   "metadata": {},
   "outputs": [],
   "source": [
    "xs = degrade_pts.t2_geom.x.values\n",
    "ys = degrade_pts.t2_geom.y.values\n",
    "\n",
    "rst_x_idxs = raster_utils.get_idx(rst.x.data, xs)\n",
    "rst_y_idxs = raster_utils.get_idx(rst.y.data, ys)"
   ]
  },
  {
   "cell_type": "code",
   "execution_count": 28,
   "metadata": {},
   "outputs": [],
   "source": [
    "yrs = [19, 20, 21, 22]\n",
    "\n",
    "for i, y in enumerate(yrs):\n",
    "    dt = rst.data[i, rst_y_idxs, rst_x_idxs]\n",
    "    degrade_pts[f\"burn_day_{y}\"] = dt\n",
    "    degrade_pts[f\"burn_bool_{y}\"] = np.logical_and(\n",
    "        dt != 0, np.logical_and(\n",
    "        dt + (y * 1000) > degrade_pts[\"t1_yydoy\"],\n",
    "        dt + (y * 1000) < degrade_pts[\"t2_yydoy\"],\n",
    "        ))\n",
    "\n",
    "degrade_pts[\"interceding_burn\"] = degrade_pts[[f\"burn_bool_{y}\" for y in yrs]].any(axis=1)"
   ]
  },
  {
   "cell_type": "markdown",
   "metadata": {},
   "source": [
    "### 0.1 Bucket PAI according to vertical thirds of pre-disturbance height"
   ]
  },
  {
   "cell_type": "code",
   "execution_count": 29,
   "metadata": {},
   "outputs": [
    {
     "name": "stdout",
     "output_type": "stream",
     "text": [
      "836\n"
     ]
    }
   ],
   "source": [
    "print(len(degrade_pts[degrade_pts[\"interceding_burn\"]]))\n",
    "with pd.option_context(\"mode.chained_assignment\", None):\n",
    "    degrade_pts[\"t1_mid_tch_bucket\"] = degrade_pts.t1_rh_98_a0.apply(lambda x: int((x / 3) // 5 * 5))\n",
    "    degrade_pts[\"t1_upper_pai\"] = np.nan\n",
    "    degrade_pts[\"t2_upper_pai\"] = np.nan\n",
    "    degrade_pts[\"t1_lower_pai\"] = np.nan\n",
    "    degrade_pts[\"t2_lower_pai\"] = np.nan\n",
    "    for el in degrade_pts.t1_mid_tch_bucket.unique():\n",
    "        idx = degrade_pts.t1_mid_tch_bucket == el\n",
    "        degrade_pts[\"t1_upper_pai\"][idx] = degrade_pts[f\"t1_pai_{el}\"][idx] - degrade_pts.t1_pai_100[idx]\n",
    "        degrade_pts[\"t2_upper_pai\"][idx] = degrade_pts[f\"t2_pai_{el}\"][idx] - degrade_pts.t2_pai_100[idx]\n",
    "\n",
    "        degrade_pts[\"t1_lower_pai\"][idx] = degrade_pts.t1_pai_0 - degrade_pts[f\"t1_pai_{el}\"][idx] \n",
    "        degrade_pts[\"t2_lower_pai\"][idx] = degrade_pts.t2_pai_0 - degrade_pts[f\"t2_pai_{el}\"][idx] "
   ]
  },
  {
   "cell_type": "markdown",
   "metadata": {},
   "source": [
    "# 1. Plotting"
   ]
  },
  {
   "cell_type": "code",
   "execution_count": null,
   "metadata": {},
   "outputs": [],
   "source": [
    "import matplotlib\n",
    "red = matplotlib.cm.get_cmap(\"coolwarm\")(1.0)\n",
    "blue = matplotlib.cm.get_cmap(\"coolwarm\")(0.0)\n",
    "red1 = \"tab:red\"\n",
    "blue1 = \"tab:blue\"\n",
    "burned = degrade_pts[degrade_pts[\"interceding_burn\"]]\n",
    "cond = (burned.t1_rh_98_a0 >= 5) & (burned.t2_rh_98_a0 >= (.65 * burned.t1_rh_98_a0))\n",
    "with pd.option_context(\"mode.chained_assignment\", None):\n",
    "    burned[\"canopy_lost\"] = True\n",
    "    burned.loc[cond, \"canopy_lost\"] = False\n",
    "    burned.loc[burned.t1_rh_98_a0 < 5, \"canopy_lost\"] = np.NaN\n",
    "print(len(burned[burned.t1_rh_98_a0 < 5]))\n",
    "\n",
    "fig, ax = plt.subplots(nrows=2, ncols=2, figsize=(10, 10))\n",
    "axi = ax[0, 0]\n",
    "axi.scatter(burned.t1_rh_98_a0, burned.t2_rh_98_a0, s=2, c=burned.canopy_lost, cmap=\"coolwarm\")\n",
    "axi.set_title(\"RH 98\")\n",
    "maxh = 55\n",
    "axi.set_xlim(0, maxh)\n",
    "axi.set_ylim(0, maxh)\n",
    "axi.plot([0, maxh], [0, maxh], color='gray', linestyle='dashed')\n",
    "axi.set_xlabel(\"Time 1\")\n",
    "axi.set_ylabel(\"Time 2\")\n",
    "\n",
    "axi = ax[0, 1]\n",
    "axi.scatter(burned[burned.canopy_lost == True].t1_rh_50_a0, burned[burned.canopy_lost == True].t2_rh_50_a0, s=2, color=red)\n",
    "axi.scatter(burned[burned.canopy_lost == False].t1_rh_50_a0, burned[burned.canopy_lost == False].t2_rh_50_a0, s=2, color=blue)\n",
    "axi.set_title(\"RH 50\")\n",
    "maxh = 30\n",
    "axi.set_xlim(-2.5, maxh)\n",
    "axi.set_ylim(-2.5, maxh)\n",
    "axi.plot([0, maxh], [0, maxh], color='gray', linestyle='dashed')\n",
    "axi.set_xlabel(\"Time 1\")\n",
    "axi.set_ylabel(\"Time 2\")\n",
    "\n",
    "sns.set_theme(style=\"ticks\")\n",
    "axi = ax[1, 0]\n",
    "sns.kdeplot(x=burned.t1_upper_pai, ax=axi, color='tab:green', fill=True)\n",
    "sns.kdeplot(x=burned.t2_upper_pai[burned.canopy_lost == False], ax=axi, color=blue1, fill=True)\n",
    "sns.kdeplot(x=burned.t2_upper_pai[burned.canopy_lost == True], ax=axi, color=red1, fill=True)\n",
    "axi.set_xlabel(\"PAI\")\n",
    "axi.set_title(\"Upper & mid stories\")\n",
    "\n",
    "axi = ax[1, 1]\n",
    "sns.kdeplot(x=burned.t1_lower_pai, ax=axi, color='tab:green', fill=True)\n",
    "sns.kdeplot(x=burned.t2_lower_pai[burned.canopy_lost == False], ax=axi, color=blue1, fill=True)\n",
    "sns.kdeplot(x=burned.t2_lower_pai[burned.canopy_lost == True], ax=axi, color=red1, fill=True)\n",
    "axi.set_xlabel(\"PAI\")\n",
    "axi.set_title(\"Understory\")\n",
    "\n",
    "fig.subplots_adjust(wspace=0.30, hspace=0.5)\n",
    "\n",
    "legend1_elements = [\n",
    "        Line2D([0], [0], marker='o', color=blue, label=\"Canopy preserved\",\n",
    "            markerfacecolor=blue, markersize=7, linestyle='None'),\n",
    "        Line2D([0], [0], marker='o', color=red, label=\"Canopy lost\",\n",
    "            markerfacecolor=red, markersize=7, linestyle='None'),\n",
    "]\n",
    "fig.legend(handles=legend1_elements, loc='upper center', bbox_to_anchor=(0.5, 0.52),fancybox=False, shadow=False, ncol=2)\n",
    "\n",
    "legend2_elements = [\n",
    "        Line2D([0], [0], marker='o', color='tab:green', label=\"Pre-disturbance\",\n",
    "            markerfacecolor='tab:green', markersize=7, linestyle='None'),\n",
    "        Line2D([0], [0], marker='o', color=blue1, label=\"Post-disturbance,\\n canopy preserved\",\n",
    "            markerfacecolor=blue1, markersize=7, linestyle='None'),\n",
    "        Line2D([0], [0], marker='o', color=red1, label=\"Post-disturbance,\\n canopy lost\",\n",
    "            markerfacecolor=red1, markersize=7, linestyle='None'),\n",
    "    ]\n",
    "fig.legend(handles=legend2_elements, loc='upper center', bbox_to_anchor=(0.5, 0.07),fancybox=False, shadow=False, ncol=3)\n",
    "# fig.suptitle(\"Structural impacts of burning\")\n"
   ]
  },
  {
   "cell_type": "code",
   "execution_count": null,
   "metadata": {},
   "outputs": [],
   "source": [
    "\n",
    "# Percent of [burned forest] in which the canopy was preserved\n",
    "tot = len(burned[burned.t1_rh_98_a0 >= 5])\n",
    "sub = len(burned[cond])\n",
    "print(f\"Percent of burned forest overall, in which the canopy was preserved: {sub/tot * 100:.1f}%\")\n",
    "\n",
    "# Percent of [burned samples when the canopy was preserved] in which the understory was lost\n",
    "tot = len(burned[cond])\n",
    "sub = len(burned[cond & (burned.t2_rh_50_a0 <= 3.5)])\n",
    "print(f\"Percent of blue points in which the understory was lost: {sub/tot * 100:.1f}%\")\n",
    "\n",
    "# Percent of [burned forest] in which the canopy was preserved but the understory was lost\n",
    "tot = len(burned[burned.t1_rh_98_a0 >= 5])\n",
    "sub = len(burned[cond & (burned.t2_rh_50_a0 <= 3.5)])\n",
    "print(f\"Percent of burned forest overall, in which the canopy was preserved but the understory lost: {sub/tot * 100:.1f}%\")"
   ]
  }
 ],
 "metadata": {
  "kernelspec": {
   "display_name": "venv",
   "language": "python",
   "name": "python3"
  },
  "language_info": {
   "codemirror_mode": {
    "name": "ipython",
    "version": 3
   },
   "file_extension": ".py",
   "mimetype": "text/x-python",
   "name": "python",
   "nbconvert_exporter": "python",
   "pygments_lexer": "ipython3",
   "version": "3.10.12"
  },
  "orig_nbformat": 4
 },
 "nbformat": 4,
 "nbformat_minor": 2
}
